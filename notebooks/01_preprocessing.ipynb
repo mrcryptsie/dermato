{
  "nbformat": 4,
  "nbformat_minor": 0,
  "metadata": {
    "colab": {
      "provenance": [],
      "gpuType": "T4"
    },
    "kernelspec": {
      "name": "python3",
      "display_name": "Python 3"
    },
    "language_info": {
      "name": "python"
    },
    "accelerator": "GPU"
  },
  "cells": [
    {
      "cell_type": "markdown",
      "source": [
        "**PRETRAITEMENT**"
      ],
      "metadata": {
        "id": "C7JJKL4P85b6"
      }
    },
    {
      "cell_type": "code",
      "source": [
        "# Monté le drive\n",
        "\n",
        "from google.colab import drive\n",
        "drive.mount('/content/drive')"
      ],
      "metadata": {
        "colab": {
          "base_uri": "https://localhost:8080/"
        },
        "id": "xsvvr_ZKAChn",
        "outputId": "bbb359d5-9b82-4aa1-bc7e-405ededecfdb"
      },
      "execution_count": null,
      "outputs": [
        {
          "output_type": "stream",
          "name": "stdout",
          "text": [
            "Drive already mounted at /content/drive; to attempt to forcibly remount, call drive.mount(\"/content/drive\", force_remount=True).\n"
          ]
        }
      ]
    },
    {
      "cell_type": "code",
      "source": [
        "# A supprimer:\n",
        "/content/drive/MyDrive/dermato/data/processed/masks\n",
        "/content/drive/MyDrive/dermato/data/processed/images\n",
        "/content/drive/MyDrive/dermato/data/processed/test/*.png et .jpg\n",
        "/content/drive/MyDrive/dermato/data/processed/train/*.png et .jpg\n",
        "/content/drive/MyDrive/dermato/data/processed/val/*.png et .jpg"
      ],
      "metadata": {
        "id": "JDobjr_duUXr"
      },
      "execution_count": null,
      "outputs": []
    },
    {
      "cell_type": "code",
      "source": [],
      "metadata": {
        "id": "e7YzxIHlwaLx"
      },
      "execution_count": null,
      "outputs": []
    },
    {
      "cell_type": "code",
      "execution_count": null,
      "metadata": {
        "id": "9XWZRr7e51jw",
        "colab": {
          "base_uri": "https://localhost:8080/"
        },
        "outputId": "dd8894f2-95db-469f-e59d-b325646f5491"
      },
      "outputs": [
        {
          "output_type": "stream",
          "name": "stderr",
          "text": [
            "Stockage train données: 100%|██████████| 2075/2075 [36:00<00:00,  1.04s/it]\n",
            "Stockage val données: 100%|██████████| 259/259 [02:26<00:00,  1.76it/s]\n",
            "Stockage test données: 100%|██████████| 260/260 [03:18<00:00,  1.31it/s]\n"
          ]
        }
      ],
      "source": [
        "# Importer les bibliothèques\n",
        "import os\n",
        "import tensorflow as tf\n",
        "from PIL import Image\n",
        "import sys\n",
        "import numpy as np\n",
        "from tqdm import tqdm\n",
        "\n",
        "# Accès au script\n",
        "sys.path.append('/content/drive/MyDrive/dermato/scripts/')\n",
        "\n",
        "# Importer les classes et fonctions depuis votre fichier script\n",
        "from data_preprocessing import ISICDataset, save_preprocessed_data\n",
        "\n",
        "\n",
        "\n",
        "# Définir les chemins vers les dossiers d'images et de masques\n",
        "imgs_dir = '/content/drive/MyDrive/dermato/data/raw/images'\n",
        "masks_dir = '/content/drive/MyDrive/dermato/data/raw/masks'\n",
        "output_dir = '/content/drive/MyDrive/dermato/data/processed'\n",
        "\n",
        "# Initialiser le dataset avec un batch_size de 16 et taille d'image (224x224)\n",
        "dataset = ISICDataset(imgs_dir, masks_dir, batch_size=16, target_size=(224, 224))\n",
        "\n",
        "# Split des indices des données en train, validation et test\n",
        "train_idx, val_idx, test_idx = dataset.split_data()\n",
        "\n",
        "# Sauvegarder les données prétraitées dans les répertoires appropriés\n",
        "save_preprocessed_data(dataset, output_dir, 'train', train_idx)\n",
        "save_preprocessed_data(dataset, output_dir, 'val', val_idx)\n",
        "save_preprocessed_data(dataset, output_dir, 'test', test_idx)\n",
        "\n"
      ]
    }
  ]
}